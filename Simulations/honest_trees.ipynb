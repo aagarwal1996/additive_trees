{
 "cells": [
  {
   "cell_type": "code",
   "execution_count": 96,
   "id": "104ac10c-bcaf-4d03-b81c-8bec34ee58b0",
   "metadata": {},
   "outputs": [
    {
     "name": "stdout",
     "output_type": "stream",
     "text": [
      "The autoreload extension is already loaded. To reload it, use:\n",
      "  %reload_ext autoreload\n"
     ]
    }
   ],
   "source": [
    "import numpy as np\n",
    "import pandas as pd\n",
    "import matplotlib.pyplot as plt\n",
    "import statistics\n",
    "import sys\n",
    "from sklearn.model_selection import cross_val_score\n",
    "from sklearn.ensemble import RandomForestRegressor\n",
    "from sklearn.tree import DecisionTreeRegressor\n",
    "from sklearn.linear_model import LinearRegression, LassoCV, RidgeCV\n",
    "from sklearn.metrics import mean_squared_error\n",
    "sys.path.append(\"../\")\n",
    "from honest_trees import *\n",
    "%matplotlib inline\n",
    "%load_ext autoreload\n",
    "%autoreload 2"
   ]
  },
  {
   "cell_type": "markdown",
   "id": "c1b04155-306e-4e88-8497-4402ffc5e313",
   "metadata": {},
   "source": [
    "# Implement Honest Trees  "
   ]
  },
  {
   "cell_type": "code",
   "execution_count": 59,
   "id": "9cba5827-3de2-4653-9b77-5b284adf0a62",
   "metadata": {},
   "outputs": [],
   "source": [
    "def sample_X(n,d):\n",
    "    X = np.random.uniform(0,1.0,(n,d))\n",
    "    return X"
   ]
  },
  {
   "cell_type": "code",
   "execution_count": 60,
   "id": "ba359ccf-42e3-4a0a-8c2f-831269aacc7c",
   "metadata": {},
   "outputs": [],
   "source": [
    "def linear_model(X,s,beta,sigma):\n",
    "    \n",
    "    '''\n",
    "    This method is used to crete responses from a linear model with hard sparsity\n",
    "    Parameters:\n",
    "    X: X matrix\n",
    "    s: sparsity \n",
    "    beta: coefficient vector. If beta not a vector, then assumed that \n",
    "    sigma: s.d. of added noise \n",
    "    Returns: \n",
    "    numpy array of shape (n)        \n",
    "    '''\n",
    "    \n",
    "    def create_y(x,s,beta):\n",
    "        linear_term = 0\n",
    "        for i in range(s):\n",
    "            linear_term += x[i]*beta\n",
    "        return linear_term\n",
    "    y_train = np.array([create_y(X[i, :],s,beta) for i in range(len(X))])\n",
    "    y_train = y_train + sigma * np.random.randn((len(X)))\n",
    "    return y_train"
   ]
  },
  {
   "cell_type": "code",
   "execution_count": 63,
   "id": "5c28df30-93a7-4667-83a0-787da511e529",
   "metadata": {},
   "outputs": [],
   "source": [
    "n = 1000\n",
    "n_h = 1000\n",
    "n_test = 500\n",
    "d = 50\n",
    "beta = 1\n",
    "sigma = 0.1\n",
    "s = 5"
   ]
  },
  {
   "cell_type": "code",
   "execution_count": 80,
   "id": "08291417-578c-4a55-9222-34b71cdc1864",
   "metadata": {},
   "outputs": [],
   "source": [
    "X_train = sample_X(n,d)\n",
    "y_train  = linear_model(X_train,s,beta,sigma)\n",
    "X_honest = sample_X(n_h,d)\n",
    "y_honest = linear_model(X_honest,s,beta,sigma)\n",
    "X_test = sample_X(n_test,d)\n",
    "y_test = linear_model(X_test,s,beta,0)\n"
   ]
  },
  {
   "cell_type": "code",
   "execution_count": 81,
   "id": "e2737d4e-04b8-4d29-ba7c-8e5a595f969c",
   "metadata": {},
   "outputs": [
    {
     "data": {
      "text/plain": [
       "DecisionTreeRegressor(ccp_alpha=0.0, criterion='mse', max_depth=None,\n",
       "                      max_features=None, max_leaf_nodes=None,\n",
       "                      min_impurity_decrease=0.0, min_impurity_split=None,\n",
       "                      min_samples_leaf=1, min_samples_split=2,\n",
       "                      min_weight_fraction_leaf=0.0, presort='deprecated',\n",
       "                      random_state=None, splitter='best')"
      ]
     },
     "execution_count": 81,
     "metadata": {},
     "output_type": "execute_result"
    }
   ],
   "source": [
    "CART = DecisionTreeRegressor()\n",
    "CART.fit(X_train,y_train)\n"
   ]
  },
  {
   "cell_type": "code",
   "execution_count": 90,
   "id": "7b1076e7-bbb0-462a-aad5-570282176967",
   "metadata": {},
   "outputs": [
    {
     "data": {
      "text/plain": [
       "0.1365041045970644"
      ]
     },
     "execution_count": 90,
     "metadata": {},
     "output_type": "execute_result"
    }
   ],
   "source": [
    "get_honest_test_MSE(CART,X_train,y_train,X_test,y_test)"
   ]
  },
  {
   "cell_type": "code",
   "execution_count": 91,
   "id": "79355174-3bcd-48be-99f9-38a879ce8d93",
   "metadata": {},
   "outputs": [
    {
     "data": {
      "text/plain": [
       "0.1365041045970644"
      ]
     },
     "execution_count": 91,
     "metadata": {},
     "output_type": "execute_result"
    }
   ],
   "source": [
    "mean_squared_error(CART.predict(X_test),y_test)"
   ]
  },
  {
   "cell_type": "code",
   "execution_count": null,
   "id": "07a2ab25-949a-4ef5-88f8-639c0f081510",
   "metadata": {},
   "outputs": [],
   "source": [
    "X_honest = X_train\n",
    "y_honest = y\n",
    "X_honest_leaf_ids = CART.apply(X_honest)\n",
    "unique_leaf_ids = np.unique(X_honest_leaf_ids)\n",
    "X_honest_leaf_node_ids = {k: v for k, v in enumerate(X_honest_leaf_ids)}\n",
    "leaf_id_to_honest_av = {}\n",
    "for leaf_id in unique_leaf_ids:\n",
    "    leaf_id_to_honest_av[leaf_id] = y_honest[[k for k,v in X_honest_leaf_node_ids.items() if v == leaf_id]].mean()\n"
   ]
  },
  {
   "cell_type": "code",
   "execution_count": null,
   "id": "8c030bbc-b42e-43e9-92e9-34f293f55160",
   "metadata": {},
   "outputs": [],
   "source": [
    "X_honest_leaf_node_ids.items()"
   ]
  },
  {
   "cell_type": "code",
   "execution_count": null,
   "id": "bb8997fd-0660-4ed3-b62e-ec116b944bc7",
   "metadata": {},
   "outputs": [],
   "source": [
    "leaf_id_to_honest_av"
   ]
  },
  {
   "cell_type": "code",
   "execution_count": null,
   "id": "fe0bb766-e34e-4d46-8ac3-394dfd888800",
   "metadata": {},
   "outputs": [],
   "source": [
    "X_honest_leaf_node_ids"
   ]
  },
  {
   "cell_type": "code",
   "execution_count": 97,
   "id": "07f4c559-f580-4580-b647-b3a916aa80cd",
   "metadata": {},
   "outputs": [],
   "source": [
    "CART = DecisionTreeRegressor(min_samples_leaf = 5,ccp_alpha = sigma**2/n)\n",
    "scores = cross_val_score(CART, X_train, y_train, cv=5)"
   ]
  },
  {
   "cell_type": "code",
   "execution_count": 98,
   "id": "74095390-806a-453a-bd9e-ab7f947776b6",
   "metadata": {},
   "outputs": [
    {
     "data": {
      "text/plain": [
       "array([0.64959426, 0.62939412, 0.6897648 , 0.59933809, 0.53755791])"
      ]
     },
     "execution_count": 98,
     "metadata": {},
     "output_type": "execute_result"
    }
   ],
   "source": [
    "scores"
   ]
  },
  {
   "cell_type": "code",
   "execution_count": null,
   "id": "d2f0a9e7-a242-455e-ba54-de3d65883fa4",
   "metadata": {},
   "outputs": [],
   "source": []
  }
 ],
 "metadata": {
  "kernelspec": {
   "display_name": "Python 3",
   "language": "python",
   "name": "python3"
  },
  "language_info": {
   "codemirror_mode": {
    "name": "ipython",
    "version": 3
   },
   "file_extension": ".py",
   "mimetype": "text/x-python",
   "name": "python",
   "nbconvert_exporter": "python",
   "pygments_lexer": "ipython3",
   "version": "3.9.2"
  }
 },
 "nbformat": 4,
 "nbformat_minor": 5
}

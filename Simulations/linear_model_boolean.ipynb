{
 "cells": [
  {
   "cell_type": "code",
   "execution_count": 1,
   "id": "987e9811-e578-4916-acea-4ee807402188",
   "metadata": {},
   "outputs": [],
   "source": [
    "import numpy as np\n",
    "import pandas as pd\n",
    "import pickle\n",
    "import matplotlib.pyplot as plt\n",
    "import matplotlib as mpl\n",
    "import statistics\n",
    "import math\n",
    "import sys\n",
    "from pylab import *\n",
    "from math import log\n",
    "from sklearn.ensemble import RandomForestRegressor\n",
    "from sklearn.tree import DecisionTreeRegressor\n",
    "from sklearn.metrics import mean_squared_error\n",
    "from tqdm import tqdm\n",
    "from generate_data import *\n",
    "from train_models import *\n",
    "from honest_trees import *\n",
    "%matplotlib inline\n",
    "%load_ext autoreload\n",
    "%autoreload 2"
   ]
  },
  {
   "cell_type": "markdown",
   "id": "52318701-99f6-4394-90b6-d95bc948aa1d",
   "metadata": {},
   "source": [
    "This notebook is used to run the simulation experiments for fitting sparse linear model with continuous features. The structure of this notebook is as follows: (a) We first fit different tree-based estimators on a linear model with X generated from Uniform([0,1]^d). We then plot the generalisation performance of these different estimators. "
   ]
  },
  {
   "cell_type": "markdown",
   "id": "313d25f3-43a1-47cf-b9f5-1b2ee14acbaa",
   "metadata": {},
   "source": [
    "# Examine Generalisation performance for Sparse Linear Models "
   ]
  },
  {
   "cell_type": "code",
   "execution_count": 2,
   "id": "58e5d424-e17e-4e9a-a8a5-8cd4cdd3a78d",
   "metadata": {},
   "outputs": [],
   "source": [
    "def log_list(t):\n",
    "    return [log(x,math.e) for x in t]"
   ]
  },
  {
   "cell_type": "code",
   "execution_count": 3,
   "id": "861d54db-aad2-4646-90fb-3e75809dafec",
   "metadata": {},
   "outputs": [],
   "source": [
    "def get_best_fit_line(x,y):\n",
    "    m, b = np.polyfit(x, y, 1)\n",
    "    return [m,b]"
   ]
  },
  {
   "cell_type": "code",
   "execution_count": 4,
   "id": "61c96eaf-b88c-41d2-a18b-836522cec859",
   "metadata": {},
   "outputs": [],
   "source": [
    "n_train = [100,250,500,750,1000,1500,2000,2500]\n",
    "n_test = 500\n",
    "d = 50\n",
    "beta = 1\n",
    "sigma = 0.1\n",
    "sparsity = [10,20]\n",
    "n_avg = 25"
   ]
  },
  {
   "cell_type": "code",
   "execution_count": 5,
   "id": "0563962f-c489-43d8-bca2-9238dce09c93",
   "metadata": {},
   "outputs": [],
   "source": [
    "# Initialize matrix for honest CART \n",
    "honest_CART_scores = []\n",
    "honest_CART_error_bar = []\n",
    "honest_CART_best_fit = []\n",
    "#Initialize matrix for honest CART with CCP \n",
    "#honest_CART_CCP_scores = []\n",
    "#honest_CART_CCP_error_bar = []\n",
    "\n",
    "#Initialize matrix for dishonest CART \n",
    "CART_scores = []\n",
    "CART_error_bar = []\n",
    "CART_best_fit = []\n",
    "\n",
    "#Initialize Matrix for dishonest CART with CCP \n",
    "#CART_CCP_scores = []\n",
    "#CART_CCP_error_bar = []\n",
    "\n",
    "#Initialize Matrix for RF\n",
    "RF_scores = []\n",
    "RF_error_bar = []\n",
    "RF_best_fit = []\n",
    "#Initialize matrix for theoretical lower bound \n"
   ]
  },
  {
   "cell_type": "code",
   "execution_count": 6,
   "id": "7959e45c-665f-4c88-b75e-db215065f1c3",
   "metadata": {},
   "outputs": [
    {
     "name": "stderr",
     "output_type": "stream",
     "text": [
      "100%|██████████| 8/8 [02:50<00:00, 21.31s/it]\n",
      "100%|██████████| 8/8 [02:53<00:00, 21.67s/it]\n"
     ]
    }
   ],
   "source": [
    "#This cell's code is used to fit and predict for on linear model varying across the number of training samples/sparsity \n",
    "for s in sparsity: \n",
    "    honest_CART_s = []\n",
    "    honest_CART_s_error_bar = []\n",
    "    \n",
    "    \n",
    "    \n",
    "    #honest_CART_CCP_s = []\n",
    "    #honest_CART_CCP_s_error_bar = []\n",
    "    CART_s = []\n",
    "    CART_s_error_bar = []\n",
    "  \n",
    "    \n",
    "    #CART_CCP_s = []\n",
    "    #CART_CCP_s_error_bar = []\n",
    "    \n",
    "    RF_s = []\n",
    "    RF_s_error_bar = []\n",
    "\n",
    "    \n",
    "    for n in tqdm(n_train):\n",
    "        honest_CART = []\n",
    "        #honest_CART_CCP = []\n",
    "        CART = []\n",
    "        #CART_CCP = []\n",
    "        RF = []\n",
    "        for j in range(n_avg):\n",
    "            #Create data to fit models \n",
    "            X_train = sample_boolean_X(n,d)\n",
    "            X_honest = sample_boolean_X(n,d)\n",
    "            X_test = sample_boolean_X(n_test,d)\n",
    "            \n",
    "            \n",
    "            y_train = linear_model(X_train,s,beta,sigma)\n",
    "            y_honest = linear_model(X_honest,s,beta,sigma)\n",
    "            y_test = linear_model(X_test,s,beta,0) #zero noise since we want to measure ||\\hat{f} - f||_2\n",
    "            \n",
    "            \n",
    "            \n",
    "            #Fit and predict for all versions of CART\n",
    "            honest_CART_MSE,CART_MSE =  train_all_models(X_train,y_train,X_honest,y_honest,X_test,y_test,sigma,k = 5)\n",
    "            honest_CART.append(honest_CART_MSE)\n",
    "            \n",
    "            \n",
    "            \n",
    "            #honest_CART_CCP.append(honest_CART_CCP_MSE)\n",
    "            CART.append(CART_MSE)\n",
    "            #CART_CCP.append(CART_CCP_MSE)\n",
    "            \n",
    "            #Fit and predict for RF\n",
    "            rf = RandomForestRegressor(n_estimators = 100,max_features = 0.33)\n",
    "            rf.fit(X_train,y_train)\n",
    "            rf_preds = rf.predict(X_test)\n",
    "            RF.append(mean_squared_error(y_test,rf_preds))\n",
    "            \n",
    "            \n",
    "            \n",
    "        #Store Performance in matrix\n",
    "        honest_CART_s.append(statistics.mean(honest_CART))\n",
    "        honest_CART_s_error_bar.append(statistics.stdev(honest_CART))\n",
    "        \n",
    "        #honest_CART_CCP_s.append(statistics.mean(honest_CART_CCP))\n",
    "        #honest_CART_CCP_s_error_bar.append(statistics.stdev(honest_CART_CCP))\n",
    "        \n",
    "        CART_s.append(statistics.mean(CART))\n",
    "        CART_s_error_bar.append(statistics.stdev(CART))\n",
    "        \n",
    "        #CART_CCP_s.append(statistics.mean(CART_CCP))\n",
    "        #CART_CCP_s_error_bar.append(statistics.stdev(CART_CCP))\n",
    "        \n",
    "        RF_s.append(statistics.mean(RF))\n",
    "        RF_s_error_bar.append(statistics.stdev(RF))\n",
    "        \n",
    "\n",
    "    \n",
    "    #save results \n",
    "    honest_CART_scores.append(honest_CART_s)\n",
    "    #honest_CART_CCP_scores.append(honest_CART_CCP_s)\n",
    "    CART_scores.append(CART_s)\n",
    "    #CART_CCP_scores.append(CART_CCP_s)\n",
    "    RF_scores.append(RF_s)\n",
    "    \n",
    "    \n",
    "    honest_CART_error_bar.append(honest_CART_s_error_bar)\n",
    "    #honest_CART_CCP_error_bar.append(honest_CART_CCP_s_error_bar)\n",
    "    CART_error_bar.append(CART_s_error_bar)\n",
    "    #CART_CCP_error_bar.append(CART_CCP_s_error_bar) \n",
    "    RF_error_bar.append(RF_s_error_bar)\n"
   ]
  },
  {
   "cell_type": "markdown",
   "id": "fea0d45a-37bf-426b-a92e-e5da397a36d8",
   "metadata": {},
   "source": [
    "# Save Results "
   ]
  },
  {
   "cell_type": "code",
   "execution_count": 7,
   "id": "4d39e339-6a1f-4170-a06b-f1134c6aab1f",
   "metadata": {},
   "outputs": [],
   "source": [
    "honest_CART_results = (honest_CART_scores,honest_CART_error_bar)\n",
    "with open('results/linear_boolean/honestCART.pkl','wb') as f:\n",
    "    pickle.dump(honest_CART_results, f)"
   ]
  },
  {
   "cell_type": "code",
   "execution_count": 8,
   "id": "f575a762-f272-4457-a997-80e2a38bf333",
   "metadata": {},
   "outputs": [],
   "source": [
    "CART_results = (CART_scores,CART_error_bar)\n",
    "with open('results/linear_boolean/CART.pkl','wb') as f:\n",
    "    pickle.dump(CART_results,f)"
   ]
  },
  {
   "cell_type": "code",
   "execution_count": 9,
   "id": "af624145-d347-4d92-baeb-13e6608c6ebc",
   "metadata": {},
   "outputs": [],
   "source": [
    "RF_results = (RF_scores,RF_error_bar)\n",
    "with open('results/linear_boolean/RF.pkl','wb') as f:\n",
    "    pickle.dump(RF_results,f)"
   ]
  },
  {
   "cell_type": "markdown",
   "id": "036a83fc-8df2-4dd8-b485-5510ebf353ca",
   "metadata": {},
   "source": [
    "# Load Results "
   ]
  },
  {
   "cell_type": "code",
   "execution_count": 10,
   "id": "9dc8ae2f-f74b-4b26-bdce-817592509fa8",
   "metadata": {},
   "outputs": [],
   "source": [
    "with open ('results/linear_boolean/honestCART.pkl','rb') as f:\n",
    "    honest_CART_scores,honest_CART_error_bar = pickle.load(f)"
   ]
  },
  {
   "cell_type": "code",
   "execution_count": 11,
   "id": "27569441-1d29-44a6-9a85-494160906330",
   "metadata": {},
   "outputs": [],
   "source": [
    "with open ('results/linear_boolean/CART.pkl','rb') as f:\n",
    "    CART_scores,CART_error_bar = pickle.load(f)"
   ]
  },
  {
   "cell_type": "code",
   "execution_count": 12,
   "id": "cc147c8c-dc3e-4fa5-ad61-7cb92f66122d",
   "metadata": {},
   "outputs": [],
   "source": [
    "with open ('results/linear_boolean/RF.pkl','rb') as f:\n",
    "    RF_scores,RF_error_bar = pickle.load(f)"
   ]
  },
  {
   "cell_type": "markdown",
   "id": "a561167d-50ba-4100-88d0-93a62121b056",
   "metadata": {},
   "source": [
    "# Plot Results "
   ]
  },
  {
   "cell_type": "code",
   "execution_count": 28,
   "id": "ecded3bb-8c70-4880-99c2-0d6ac872d9a3",
   "metadata": {},
   "outputs": [],
   "source": [
    "import pylab\n",
    "# Set global plotting parameters\n",
    "plt.style.use(\"fivethirtyeight\")\n",
    "mpl.rcParams['lines.markersize'] = 10\n",
    "mpl.rcParams['grid.linewidth'] = 2.5\n",
    "mpl.rcParams['legend.fontsize'] = 20\n",
    "pylab.rcParams['xtick.major.pad'] = 5\n",
    "pylab.rcParams['ytick.major.pad'] = 5\n",
    "mpl.rcParams[\"figure.figsize\"] = [8, 6]\n",
    "mpl.rcParams['savefig.transparent'] = True\n",
    "plt.rcParams['figure.facecolor'] = 'white'\n",
    "plt.rcParams['figure.edgecolor'] = 'black'\n",
    "# plt.rcParams['patch.edgecolor'] = 'white'\n",
    "plt.rcParams['axes.facecolor'] = 'white'\n",
    "# plt.rcParams['grid.color'] = 'black'\n",
    "colors = plt.rcParams['axes.prop_cycle'].by_key()['color']\n",
    "\n",
    "label_size = 25\n",
    "mpl.rcParams['xtick.labelsize'] = label_size \n",
    "mpl.rcParams['ytick.labelsize'] = label_size \n",
    "mpl.rcParams['axes.labelsize'] = label_size\n",
    "mpl.rcParams['axes.titlesize'] = label_size\n",
    "mpl.rcParams['figure.titlesize'] = label_size"
   ]
  },
  {
   "cell_type": "code",
   "execution_count": 29,
   "id": "860c6697-88f9-4320-9367-cbeef3c04e55",
   "metadata": {},
   "outputs": [
    {
     "data": {
      "text/plain": [
       "([<matplotlib.axis.YTick at 0x153c338e0>,\n",
       "  <matplotlib.axis.YTick at 0x153c33160>,\n",
       "  <matplotlib.axis.YTick at 0x153de4430>,\n",
       "  <matplotlib.axis.YTick at 0x153de4370>],\n",
       " [])"
      ]
     },
     "execution_count": 29,
     "metadata": {},
     "output_type": "execute_result"
    },
    {
     "data": {
      "image/png": "[encoded data removed]",
      "text/plain": [
       "<Figure size 1440x576 with 2 Axes>"
      ]
     },
     "metadata": {},
     "output_type": "display_data"
    }
   ],
   "source": [
    "linear_lower_bound_fig,linear_lower_bound_axs = plt.subplots(1,2,figsize = (20,8),sharex = True,sharey = True)\n",
    "\n",
    "\n",
    "#Plot Performance for different models \n",
    "\n",
    "# s = 10\n",
    "linear_lower_bound_axs[0].errorbar(n_train,honest_CART_scores[0],yerr = honest_CART_error_bar[0],marker = '^',label = 'honest CART',color = 'green')\n",
    "\n",
    "linear_lower_bound_axs[0].errorbar(n_train,CART_scores[0],yerr = CART_error_bar[0],marker = 'x',label = 'CART',color = 'red')\n",
    "\n",
    "\n",
    "linear_lower_bound_axs[0].errorbar(n_train,RF_scores[0],yerr = RF_error_bar[0],marker = 'o',label = 'RF',color = 'blue')\n",
    "\n",
    "\n",
    "\n",
    "# s = 20 \n",
    "linear_lower_bound_axs[1].errorbar(n_train,honest_CART_scores[1],yerr = honest_CART_error_bar[0],marker = '^',label = 'honest CART',color = 'green')\n",
    "\n",
    "linear_lower_bound_axs[1].errorbar(n_train,CART_scores[1],yerr = CART_error_bar[1],marker = 'x',label = 'CART',color = 'red')\n",
    "\n",
    "\n",
    "linear_lower_bound_axs[1].errorbar(n_train,RF_scores[1],yerr = RF_error_bar[1],marker = 'o',label = 'RF',color = 'blue')\n",
    "\n",
    "\n",
    "\n",
    "\n",
    "\n",
    "\n",
    "\n",
    "\n",
    "linear_lower_bound_axs[0].legend(loc = 'best')\n",
    "linear_lower_bound_axs[1].legend(loc = 'best')\n",
    "\n",
    "linear_lower_bound_axs[0].text(500.0, 8.15, 'A',\n",
    "      fontsize=16, fontweight='bold', va='top')\n",
    "linear_lower_bound_axs[1].text(500.0, 8.15, 'B',\n",
    "      fontsize=16, fontweight='bold', va='top')\n",
    "linear_lower_bound_axs[0].set_ylabel('MSE',fontsize = 25)\n",
    "#linear_lower_bound_axs[1].set_ylabel('MSE',fontsize = 18)\n",
    "\n",
    "linear_lower_bound_axs[0].set_xlabel('Number of Samples n',fontsize = 25)\n",
    "linear_lower_bound_axs[1].set_xlabel('Number of Samples n',fontsize = 25)\n",
    "\n",
    "linear_lower_bound_axs[0].set_yscale('log')\n",
    "linear_lower_bound_axs[1].set_yscale('log')\n",
    "linear_lower_bound_axs[0].set_xscale('log')\n",
    "linear_lower_bound_axs[1].set_xscale('log')\n",
    "\n",
    "linear_lower_bound_axs[0].grid()\n",
    "linear_lower_bound_axs[1].grid()\n",
    "\n",
    "\n",
    "plt.rcParams['legend.fontsize'] = 20\n",
    "\n",
    "plt.tight_layout(pad=0.4,w_pad=0.5, h_pad=1.5)\n",
    "\n",
    "\n",
    "plt.yscale('log')\n",
    "plt.xscale('log')\n",
    "\n",
    "\n",
    "labels = [r'$2 \\times \\mathregular{10^{-1}}$', r'$5 \\times \\mathregular{10^{-1}}$', r'$\\mathregular{10^{0}}$',r'$4 \\times \\mathregular{10^{0}}$']\n",
    "ytick = [0.2,0.5,1.0,4.0]\n",
    "#plt.xticks(n_train, labels, rotation='vertical')\n",
    "\n",
    "\n",
    "#linear_lower_bound_axs[0].set_yticks([0.1, 0.5, 1.0,3.0])\n",
    "plt.yticks(ytick,labels)"
   ]
  },
  {
   "cell_type": "code",
   "execution_count": 22,
   "id": "0d458173-764a-4197-9421-f6ab13218d04",
   "metadata": {},
   "outputs": [],
   "source": [
    "linear_lower_bound_fig.savefig('figures/linear_boolean.png')"
   ]
  },
  {
   "cell_type": "code",
   "execution_count": null,
   "id": "f258a135-7011-4ea2-8de2-38104eec8fa4",
   "metadata": {},
   "outputs": [],
   "source": []
  }
 ],
 "metadata": {
  "kernelspec": {
   "display_name": "Python 3",
   "language": "python",
   "name": "python3"
  },
  "language_info": {
   "codemirror_mode": {
    "name": "ipython",
    "version": 3
   },
   "file_extension": ".py",
   "mimetype": "text/x-python",
   "name": "python",
   "nbconvert_exporter": "python",
   "pygments_lexer": "ipython3",
   "version": "3.9.2"
  }
 },
 "nbformat": 4,
 "nbformat_minor": 5
}
